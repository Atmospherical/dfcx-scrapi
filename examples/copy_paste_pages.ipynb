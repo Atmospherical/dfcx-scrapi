{
 "cells": [
  {
   "cell_type": "markdown",
   "metadata": {},
   "source": [
    "# Introduction and Purpose\n",
    "The primary purpose of this notebook and set of methods/functions is to allow the DFCX script writer to copy/paste pages from one Flow to another Flow.  \n",
    "In this notebook, we will demonstrate how to do this within the SAME agent, however these same methods/functions can be utilized to move pages BETWEEN agents!"
   ]
  },
  {
   "cell_type": "markdown",
   "metadata": {},
   "source": [
    "## Imports\n",
    "We're using the Legacy DFCX and DFFX libraries for this notebook.\n",
    "Note that this scripting library is currently under a full refactor, so some of this code will slightly change in the future"
   ]
  },
  {
   "cell_type": "code",
   "execution_count": 1,
   "metadata": {},
   "outputs": [],
   "source": [
    "# Copyright 2021 Google LLC. This software is provided as-is, without warranty\n",
    "# or representation for any use or purpose. Your use of it is subject to your\n",
    "# agreement with Google.\n",
    "\n",
    "from dfcx_sapi.core.flow import Flow\n",
    "from dfcx_sapi.dfcx.dfcx import DialogflowCX\n",
    "from dfcx_sapi.dfcx.dfcx_functions import DialogflowFunctions"
   ]
  },
  {
   "cell_type": "code",
   "execution_count": 10,
   "metadata": {},
   "outputs": [],
   "source": [
    "# Define your Service Account credentials file here, as well as the Agent ID you will be working on\n",
    "\n",
    "ccai_creds = '/home/pmarlow/engineering/creds/verizon-custom-ccai-external-storage-key.json'\n",
    "mfchat = 'projects/verizon-custom-ccai-external/locations/global/agents/28909604-2434-4173-86ec-4e47249e9c57'"
   ]
  },
  {
   "cell_type": "code",
   "execution_count": 11,
   "metadata": {},
   "outputs": [],
   "source": [
    "# Instantiate your DFCX and DFFX Objects\n",
    "\n",
    "dfcx = DialogflowCX(ccai_creds)\n",
    "dffx = DialogflowFunctions(ccai_creds)"
   ]
  },
  {
   "cell_type": "markdown",
   "metadata": {},
   "source": [
    "## Get Flows Map from Agent in Reverse so we can reference by Flow Display Name\n",
    "The DFFX Class has a set of `map` functions that are handy for manipulating CX Resources when you only need the UUID and Display Name, but not the entire object.\n",
    "Here, we need to reference our Flows by Display Name, so we can use the `get_flows_map` method, and set the `reverse` flag to `True` giving us the Display Names as the keys and the UUIDs as the values."
   ]
  },
  {
   "cell_type": "code",
   "execution_count": 4,
   "metadata": {},
   "outputs": [
    {
     "data": {
      "text/plain": [
       "{'Default Start Flow': 'projects/verizon-custom-ccai-external/locations/global/agents/28909604-2434-4173-86ec-4e47249e9c57/flows/00000000-0000-0000-0000-000000000000',\n",
       " 'CMBLOCK': 'projects/verizon-custom-ccai-external/locations/global/agents/28909604-2434-4173-86ec-4e47249e9c57/flows/01c77870-df44-4582-9a04-343dcea8c3c8',\n",
       " 'bill cycle ': 'projects/verizon-custom-ccai-external/locations/global/agents/28909604-2434-4173-86ec-4e47249e9c57/flows/1df77c2b-77a6-4e1e-8c51-55b67bc8c648',\n",
       " 'PTP': 'projects/verizon-custom-ccai-external/locations/global/agents/28909604-2434-4173-86ec-4e47249e9c57/flows/39538e53-effe-4792-80cc-bb5710fe8552',\n",
       " 'TRBL': 'projects/verizon-custom-ccai-external/locations/global/agents/28909604-2434-4173-86ec-4e47249e9c57/flows/44568c1c-646d-4e58-a4f1-0d4e97152071',\n",
       " 'DEVP': 'projects/verizon-custom-ccai-external/locations/global/agents/28909604-2434-4173-86ec-4e47249e9c57/flows/481a86c4-347f-40c3-b4d6-df0d14898539',\n",
       " 'TYS': 'projects/verizon-custom-ccai-external/locations/global/agents/28909604-2434-4173-86ec-4e47249e9c57/flows/52e0fdcd-78ca-41d2-ac35-e34c58c3f5d1',\n",
       " 'AMNT15': 'projects/verizon-custom-ccai-external/locations/global/agents/28909604-2434-4173-86ec-4e47249e9c57/flows/6a731423-3444-4623-97a7-c72da3399363',\n",
       " 'LIVECHAT': 'projects/verizon-custom-ccai-external/locations/global/agents/28909604-2434-4173-86ec-4e47249e9c57/flows/88682609-dd08-47b8-bd49-2ab50e98cca8',\n",
       " 'SR': 'projects/verizon-custom-ccai-external/locations/global/agents/28909604-2434-4173-86ec-4e47249e9c57/flows/9589727d-deca-4309-84ac-c6b5e06b9b32',\n",
       " 'MM': 'projects/verizon-custom-ccai-external/locations/global/agents/28909604-2434-4173-86ec-4e47249e9c57/flows/9a46f9fe-419e-4641-ab5d-68a381bc8a52',\n",
       " 'AMNT': 'projects/verizon-custom-ccai-external/locations/global/agents/28909604-2434-4173-86ec-4e47249e9c57/flows/a36c47b4-85d7-4ceb-8615-7c72ca75d8b0',\n",
       " 'Agnostic': 'projects/verizon-custom-ccai-external/locations/global/agents/28909604-2434-4173-86ec-4e47249e9c57/flows/a3bc9543-29aa-4961-a0bb-db950e92e1ca',\n",
       " 'INTL': 'projects/verizon-custom-ccai-external/locations/global/agents/28909604-2434-4173-86ec-4e47249e9c57/flows/b23fb609-ed1b-4ae3-8716-2e7e7023cc01',\n",
       " 'PAC': 'projects/verizon-custom-ccai-external/locations/global/agents/28909604-2434-4173-86ec-4e47249e9c57/flows/b74ece66-3c77-4a1f-9710-2ce7a91af17c',\n",
       " 'USG': 'projects/verizon-custom-ccai-external/locations/global/agents/28909604-2434-4173-86ec-4e47249e9c57/flows/bfd9c6e6-abb1-452d-a1f2-74dfaaccd995',\n",
       " 'BILL': 'projects/verizon-custom-ccai-external/locations/global/agents/28909604-2434-4173-86ec-4e47249e9c57/flows/c95e5980-110a-4351-a785-a09a4bcb4147',\n",
       " 'ORD': 'projects/verizon-custom-ccai-external/locations/global/agents/28909604-2434-4173-86ec-4e47249e9c57/flows/da0c8952-7c58-4eba-b80a-5d031327badb',\n",
       " 'NSA': 'projects/verizon-custom-ccai-external/locations/global/agents/28909604-2434-4173-86ec-4e47249e9c57/flows/dd8cc1ad-b926-4793-8a47-5b01f1aee166',\n",
       " 'CMTN': 'projects/verizon-custom-ccai-external/locations/global/agents/28909604-2434-4173-86ec-4e47249e9c57/flows/e8840b64-cacb-478c-aebb-bf896de5914e',\n",
       " 'VZUP': 'projects/verizon-custom-ccai-external/locations/global/agents/28909604-2434-4173-86ec-4e47249e9c57/flows/e92bd4cd-be6b-4688-be52-77d60f85e6af'}"
      ]
     },
     "execution_count": 4,
     "metadata": {},
     "output_type": "execute_result"
    }
   ],
   "source": [
    "mfchat_flows_map = dffx.get_flows_map(mfchat, reverse=True)\n",
    "mfchat_flows_map"
   ]
  },
  {
   "cell_type": "markdown",
   "metadata": {},
   "source": [
    "## Get All Pages from Source Flow\n",
    "Once we have our Flows map, we can reference it in our call to extract the full list of pages from the source Flow in question.\n",
    "In our case, we want to extract pages from a Flow named `AMNT15`.  \n",
    "We will call the `list_pages` method from the DFCX Class and pass in the appropriate dict reference."
   ]
  },
  {
   "cell_type": "code",
   "execution_count": 5,
   "metadata": {},
   "outputs": [
    {
     "name": "stdout",
     "output_type": "stream",
     "text": [
      "AMNT15 Page Count = 76\n"
     ]
    }
   ],
   "source": [
    "amnt15_pages = dfcx.list_pages(mfchat_flows_map['AMNT15'])\n",
    "print('AMNT15 Page Count = {}'.format(len(amnt15_pages)))"
   ]
  },
  {
   "cell_type": "markdown",
   "metadata": {},
   "source": [
    "## Extract Subset of Pages that we want to copy\n",
    "Now that we have our List of Page objects, we need to extract the subset of pages that we plan on copying over.\n",
    "Usually you will do this using some regex matcher or pattern to select your pages.  \n",
    "The easiest way to do this is to ensure the the Page designer has prepended the `page.display_name` with a specific label.\n",
    "The more unique the matching pattern, the better!\n",
    "\n",
    "Ex:\n",
    "- TYS - Page 1\n",
    "- TYS - Page 2\n",
    "- TYS - Page N"
   ]
  },
  {
   "cell_type": "code",
   "execution_count": 6,
   "metadata": {},
   "outputs": [
    {
     "name": "stdout",
     "output_type": "stream",
     "text": [
      "Total Pages to Copy = 13\n"
     ]
    }
   ],
   "source": [
    "subset_pages = [] # define a list placeholder for your Page proto objects\n",
    "for page in amnt15_pages:\n",
    "    if 'TYS -' in page.display_name:\n",
    "        subset_pages.append(page)\n",
    "\n",
    "print('Total Pages to Copy = {}'.format(len(subset_pages)))"
   ]
  },
  {
   "cell_type": "markdown",
   "metadata": {},
   "source": [
    "## Create Page Shells in Destination Flow\n",
    "Using the `subset_pages` that we just collected, iter through them and create a \"shell\" page in the destination flow.  \n",
    "This allows CX to assign a new UUID for the destination page which we will use to replace all references in the existing `subset_pages`\n",
    "\n",
    "Remember to pass in the `Destination Flow ID` using the reverse flows map from above.\n",
    "\n",
    "**NOTE** - If you have a lot of pages, consider a `time.sleep(.5)` in your loop so as to not overrun your API limits!"
   ]
  },
  {
   "cell_type": "code",
   "execution_count": 8,
   "metadata": {},
   "outputs": [],
   "source": [
    "for page in subset_pages:\n",
    "    dfcx.create_page(mfchat_flows_map['TYS'], display_name=page.display_name) # remember to add kwarg for display_name"
   ]
  },
  {
   "cell_type": "markdown",
   "metadata": {},
   "source": [
    "## Prep Source Page Objects\n",
    "In a previous step, we collected the `subset_pages` list of Page objects.  \n",
    "Now we will use a ~!* MAGIC *!~ `dffx` method called `convert_page_dependencies`\n",
    "\n",
    "`convert_page_dependencies` has 2 modes:\n",
    "- source\n",
    "- destination\n",
    "\n",
    "For `source` mode, you simply pass in the following:\n",
    "- Agent ID String\n",
    "- Original List of Page Objects (in our case, the `subset_pages` list) \n",
    "- 'source' keyword\n",
    "- STRING DISPLAY NAME of the Source Flow\n",
    "\n",
    "The `source` mode changes all of the UUIDs in the Page object to be PLAIN TEXT STRING DISPLAY NAMES using the internal map functions.  \n",
    "You will want to collect your new MODIFIED page objects in a new variable, in our case here we call it `subset_pages_prepped`\n",
    "\n",
    "For `destination` mode, you simply pass in the following:\n",
    "- Agent ID String\n",
    "- MODIFIED page objects that you received as output from the `source` mode pass of this same function\n",
    "- 'destination' keyword\n",
    "- STRING DISPLAY NAME of the Destination Flow\n",
    "\n",
    "The `destination` mode will perform a reverse dictionary lookup on all of the previously modified resources using the internal map functions.\n",
    "You will want to collect your new MODIFIED FINAL page objects in a new variable, in our case here we call it `final_pages`"
   ]
  },
  {
   "cell_type": "code",
   "execution_count": 7,
   "metadata": {},
   "outputs": [],
   "source": [
    "subset_pages_prepped = dffx.convert_page_dependencies(mfchat, subset_pages, 'source', 'AMNT15')"
   ]
  },
  {
   "cell_type": "code",
   "execution_count": 8,
   "metadata": {},
   "outputs": [],
   "source": [
    "final_pages = dffx.convert_page_dependencies(mfchat, subset_pages_prepped, 'destination', 'TYS')"
   ]
  },
  {
   "cell_type": "markdown",
   "metadata": {},
   "source": [
    "## Update Pages in Destination Flow\n",
    "Loop through your `final_pages` list and call the `update_page` function"
   ]
  },
  {
   "cell_type": "code",
   "execution_count": 9,
   "metadata": {},
   "outputs": [
    {
     "name": "stdout",
     "output_type": "stream",
     "text": [
      "Updated Page: TYS - Check DPP and monthly bill in credit\n",
      "Updated Page: TYS - No pending orders\n",
      "Updated Page: TYS - Submit TYS Request\n",
      "Updated Page: TYS - Input form validation and save info\n",
      "Updated Page: TYS - Check device eligibility\n",
      "Updated Page: TYS - Show new Account Widget\n",
      "Updated Page: TYS - Account role check\n",
      "Updated Page: TYS - Show small business widget\n",
      "Updated Page: TYS - Check pending orders\n",
      "Updated Page: TYS - Get DeviceMDN\n",
      "Updated Page: TYS - Show review widget\n",
      "Updated Page: TYS - Follow up\n",
      "Updated Page: TYS - Show Disclosure and Auth Widget\n"
     ]
    }
   ],
   "source": [
    "for page in final_pages:\n",
    "    dfcx.update_page(page.name, page)\n",
    "    print('Updated Page: {}'.format(page.display_name))"
   ]
  },
  {
   "cell_type": "markdown",
   "metadata": {},
   "source": [
    "# Final Thoughts\n",
    "All of the above could be improved by combining all of the functions into a single functions.\n",
    "However, due to the shifting nature of bot building, I left the methods/functions separate to allow the script writer to make modifications or do sanity checks as they go along.\n",
    "\n",
    "As noted at the start, this script could also be used to copy pages BETWEEN agents, and that is what it was originally written to do."
   ]
  },
  {
   "cell_type": "code",
   "execution_count": null,
   "metadata": {},
   "outputs": [],
   "source": []
  }
 ],
 "metadata": {
  "environment": {
   "name": "common-cpu.mnightly-2021-01-20-debian-10-test",
   "type": "gcloud",
   "uri": "gcr.io/deeplearning-platform-release/base-cpu:mnightly-2021-01-20-debian-10-test"
  },
  "file_extension": ".py",
  "kernelspec": {
   "display_name": "Python 3",
   "language": "python",
   "name": "python3"
  },
  "language_info": {
   "codemirror_mode": {
    "name": "ipython",
    "version": 3
   },
   "file_extension": ".py",
   "mimetype": "text/x-python",
   "name": "python",
   "nbconvert_exporter": "python",
   "pygments_lexer": "ipython3",
   "version": "3.7.9"
  },
  "mimetype": "text/x-python",
  "name": "python",
  "npconvert_exporter": "python",
  "pygments_lexer": "ipython3",
  "version": 3
 },
 "nbformat": 4,
 "nbformat_minor": 4
}