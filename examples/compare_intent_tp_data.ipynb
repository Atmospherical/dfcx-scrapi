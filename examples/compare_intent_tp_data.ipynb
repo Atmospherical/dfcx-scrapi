{
 "cells": [
  {
   "cell_type": "code",
   "execution_count": null,
   "id": "4ac32bbb",
   "metadata": {},
   "outputs": [],
   "source": [
    "# Copyright 2021 Google LLC\n",
    "#\n",
    "# Licensed under the Apache License, Version 2.0 (the \"License\");\n",
    "# you may not use this file except in compliance with the License.\n",
    "# You may obtain a copy of the License at\n",
    "#\n",
    "#     https://www.apache.org/licenses/LICENSE-2.0\n",
    "#\n",
    "# Unless required by applicable law or agreed to in writing, software\n",
    "# distributed under the License is distributed on an \"AS IS\" BASIS,\n",
    "# WITHOUT WARRANTIES OR CONDITIONS OF ANY KIND, either express or implied.\n",
    "# See the License for the specific language governing permissions and\n",
    "# limitations under the License."
   ]
  },
  {
   "cell_type": "markdown",
   "id": "6bdb0655",
   "metadata": {},
   "source": [
    "# Introduction\n",
    "In this notebook, we will show you how to evaluate the levenshtein ration between the training phrases of two intents.\n",
    "\n",
    "## Prerequisites\n",
    "- Ensure you have a GCP Service Account key with the Dialogflow API Admin privileges assigned to it.\n",
    "- If you haven't already, make sure you install the `dfcx-scrapi` library\n",
    "\n",
    "    `pip install dfcx-scrapi`"
   ]
  },
  {
   "cell_type": "markdown",
   "id": "e9ce0647",
   "metadata": {},
   "source": [
    "## Imports"
   ]
  },
  {
   "cell_type": "code",
   "execution_count": null,
   "id": "ca9c064b",
   "metadata": {},
   "outputs": [],
   "source": [
    "from dfcx_scrapi.core.intents import Intents\n",
    "from dfcx_scrapi.tools.analysis_util import AnalysisUtil"
   ]
  },
  {
   "cell_type": "markdown",
   "id": "50eb5f8e",
   "metadata": {},
   "source": [
    "# Usage"
   ]
  },
  {
   "cell_type": "markdown",
   "id": "cb3dca7f",
   "metadata": {},
   "source": [
    "## Prerequisite Information\n",
    "Getting an Intent from your existing DFCX agent requires the following information:\n",
    "- `agent_id`, which is your GCP agent ID.\n",
    "- `creds_path`, path to your service account credentials file."
   ]
  },
  {
   "cell_type": "markdown",
   "id": "4b704570",
   "metadata": {},
   "source": [
    "## Get your agent's Intents\n",
    "Instantiate an Intents class object using `creds_path`:"
   ]
  },
  {
   "cell_type": "code",
   "execution_count": null,
   "id": "400aa70e",
   "metadata": {},
   "outputs": [],
   "source": [
    "i = Intents(creds_path)"
   ]
  },
  {
   "cell_type": "markdown",
   "id": "1d87761a",
   "metadata": {},
   "source": [
    "You can use your intent's unique ID or its human-readable name to find and\n",
    "reference the intents you wish to analyze. There are many ways to create\n",
    "and reference on Intent object. In this example, I chose to get all intents\n",
    "associated with my agent, then use the intent's human-readable name to \n",
    "pinpoint the specific intents I wish to compare."
   ]
  },
  {
   "cell_type": "code",
   "execution_count": null,
   "id": "5422ff7f",
   "metadata": {},
   "outputs": [],
   "source": [
    "intentsMap = i.get_intents_map(agent_id=agent_path, reverse=True)\n",
    "intent1 = i.get_intent(intentsMap[\"Intent One\"])\n",
    "intent2 = i.get_intent(intentsMap[\"Intent Two\"])"
   ]
  },
  {
   "cell_type": "markdown",
   "id": "6e642660",
   "metadata": {},
   "source": [
    "## Invoke the anaylsis tool"
   ]
  },
  {
   "cell_type": "code",
   "execution_count": null,
   "id": "22e149fa",
   "metadata": {},
   "outputs": [],
   "source": [
    "#The threshold parameter determines the level of similarity required in order to be included in the output. Default is .75, or 75% similar.\n",
    "th = 0.7\n",
    "\n",
    "result = AnalysisUtil.calc_tp_distances(intent_key=intent1, intent_comparator=intent2, threshold=th)"
   ]
  },
  {
   "cell_type": "markdown",
   "id": "696ba7b5",
   "metadata": {},
   "source": [
    "The difference between `intent_key` and `intent_comparator` is in the structure of the output.\n",
    "- `intent_key` will serve as a unique key in the object that is returned.\n",
    "- `intent_comparator` may appear multiple times, as each key can reference every comparator with a similarity ratio over the designated threshold.\n",
    "- In other words, there is a one-to-many relationship between `intent_key` and `intent_comparator`."
   ]
  },
  {
   "cell_type": "markdown",
   "id": "a480dfdb",
   "metadata": {},
   "source": [
    "## That's it!\n",
    "If you didn't designate `silent=True` as one of your parameters (and assuming you can see the command terminal associated with the execution), you should be able to see a percentage of completion ticking away. Note this process may take a while, especially for larger intents.\n",
    "\n",
    "Once complete, `calc_tp_distances` will return a Dictionary object of the following format:"
   ]
  },
  {
   "cell_type": "code",
   "execution_count": null,
   "id": "32a0098a",
   "metadata": {},
   "outputs": [],
   "source": [
    "{   \n",
    "    'stats': {   \n",
    "        'comparators': {   \n",
    "            'num_overlap': int,\n",
    "            'percent_overlap': str,\n",
    "            'total:': int\n",
    "            },\n",
    "        'keys': {   \n",
    "            'num_overlap': int,\n",
    "            'percent_overlap': str,\n",
    "            'total:': int\n",
    "            }\n",
    "        },\n",
    "    'distances': {   \n",
    "        'tp 1 from intent 1 as str': {'tp from intent 2 as str': float, 'tp from intent 2 as str': float, 'tp from intent 2 as str': float, ...},\n",
    "        'tp 2 from intent 1 as str': {'tp from intent 2 as str': float, 'tp from intent 2 as str': float, 'tp from intent 2 as str': float, ...},\n",
    "        ...\n",
    "        'tp n from intent 1 as str': {'tp from intent 2 as str': float, 'tp from intent 2 as str': float, 'tp from intent 2 as str': float, ...},  \n",
    "    }\n",
    "}"
   ]
  },
  {
   "cell_type": "markdown",
   "id": "69ba4a65",
   "metadata": {},
   "source": [
    "- `stats`: basic statistics about the results.\n",
    "  - `comparators`: statistics about the comparator training phrases:\n",
    "    - `num_overlap`: Number of comparators found to be equal or more similar than the specified threshold. Note that this number can exceed the total number of tps in the comparator, as each key maps to as many training phrases as are similar.\n",
    "    - `percent_overlap`: Percentage of comparators with a similarity to other intents. 100% means every single comparator was found to be similar to every single key. Generally speaking, this value should be very low.\n",
    "    - `total`: Total number of comparators.\n",
    "  - `keys`: statistics about the key training phrases:\n",
    "    - `num_overlap`: Number of keys found to be equally or more similar than the specified threshold. Whether a key has 1 similar comparator or 100 does not change the value of this parameter, it simply checks whether a key has any associated comparators.\n",
    "    - `percent_overlap`: Percentage of keys with an associated comparator above the designated threshold. This value does not account for the number of comparators, only for whether at least one exists.\n",
    "    - `total`: Total number of keys.\n",
    "- `distances`: a list of Dictionaries where each training phrase from the key intent serves as... well, the key. The value associated with each key is a Dictionary containing a list of comparator intents and their associated similarity ratio.\n",
    "\n",
    "# Example output:"
   ]
  },
  {
   "cell_type": "raw",
   "id": "0d22d7a5",
   "metadata": {},
   "source": [
    "{\n",
    "  'stats': {\n",
    "    'comparators': {\n",
    "      'num_overlap': 11,\n",
    "      'percent_overlap': '9.821%',\n",
    "      'total:': 112\n",
    "    },\n",
    "    'keys': {\n",
    "      'num_overlap': 5,\n",
    "      'percent_overlap': '62.5%',\n",
    "      'total:': 8\n",
    "    }\n",
    "  },\n",
    "  'distances': {\n",
    "    'Boo, apples!': {\n",
    "      'Boo apples, I say.': 0.667\n",
    "    },\n",
    "    'Hurray for bananas!': {\n",
    "      \"Don't hurray the banana, people\": 0.52,\n",
    "      'Hurray banana... jk': 0.684,\n",
    "      'Hurray bananas indeed!': 0.732\n",
    "    },\n",
    "    'I am fine thank you': {},\n",
    "    'look at me': {\n",
    "      'Look at you': 0.667,\n",
    "      'look at spree': 0.783,\n",
    "      'look at thee': 0.818\n",
    "    },\n",
    "    'one two three': {\n",
    "      'look at spree': 0.538,\n",
    "      'look at thee': 0.64,\n",
    "      'one too three': 0.923\n",
    "    }\n",
    "  }\n",
    "}"
   ]
  },
  {
   "cell_type": "code",
   "execution_count": null,
   "id": "5f45ae10",
   "metadata": {},
   "outputs": [],
   "source": []
  }
 ],
 "metadata": {
  "environment": {
   "name": "common-cpu.m73",
   "type": "gcloud",
   "uri": "gcr.io/deeplearning-platform-release/base-cpu:m73"
  },
  "kernelspec": {
   "display_name": "Python 3",
   "language": "python",
   "name": "python3"
  },
  "language_info": {
   "codemirror_mode": {
    "name": "ipython",
    "version": 3
   },
   "file_extension": ".py",
   "mimetype": "text/x-python",
   "name": "python",
   "nbconvert_exporter": "python",
   "pygments_lexer": "ipython3",
   "version": "3.7.10"
  }
 },
 "nbformat": 4,
 "nbformat_minor": 5
}
